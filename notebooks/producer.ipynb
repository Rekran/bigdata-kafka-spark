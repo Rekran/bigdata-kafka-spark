{
 "cells": [
  {
   "cell_type": "code",
   "execution_count": 1,
   "id": "08e809b6-733b-4459-9093-7c4143bf9ddf",
   "metadata": {},
   "outputs": [],
   "source": [
    "import json as json\n",
    "import time\n",
    "from kafka import KafkaProducer\n",
    "import random\n",
    "import datetime\n",
    "from datetime import datetime, timezone"
   ]
  },
  {
   "cell_type": "code",
   "execution_count": 2,
   "id": "4e3e5f6c-ee77-4eea-a15f-518eec1c7f12",
   "metadata": {},
   "outputs": [],
   "source": [
    "\n",
    "def serializer(message):\n",
    "    return json.dumps(message).encode('utf-8')\n",
    "\n",
    "producer = KafkaProducer(\n",
    "    bootstrap_servers=['kafka:29092'],\n",
    "    value_serializer=serializer\n",
    ")"
   ]
  },
  {
   "cell_type": "code",
   "execution_count": 16,
   "id": "06587d14",
   "metadata": {},
   "outputs": [],
   "source": [
    "types = [\"Carro\", \"Moto\", \"Caminhão\", \"Ônibus\", \"Van\", \"Caminhonete\", \"Bicicleta\", \"Trator\", \"Caminhonete\"]\n",
    "color= [\"Branco\", \"Preto\", \"Prata\", \"Vermelho\", \"Azul\", \"Verde\", \"Amarelo\", \"Rosa\", \"Roxo\", \"Laranja\", \"Marrom\", \"Cinza\"]\n"
   ]
  },
  {
   "cell_type": "code",
   "execution_count": 36,
   "id": "016b0dab",
   "metadata": {},
   "outputs": [],
   "source": [
    "def gerar_placa_carro():\n",
    "            letras = random.choices('ABCDEFGHIJKLMNOPQRSTUVWXYZ', k=4)\n",
    "            numeros = random.choices('0123456789', k=4)\n",
    "            placa = ''.join(letras) +'-'+ ''.join(numeros)\n",
    "            return placa"
   ]
  },
  {
   "cell_type": "code",
   "execution_count": 43,
   "id": "366331b0-54b2-4faf-a785-5394864faf7a",
   "metadata": {},
   "outputs": [],
   "source": [
    "import random\n",
    "def generate_random_json():\n",
    "    typeChoice = random.choice(types)\n",
    "    if typeChoice == \"Bicicleta\":\n",
    "        placa = \"\"\n",
    "    else:\n",
    "        placa = gerar_placa_carro()\n",
    "        \n",
    "    json_data = {\n",
    "        \"tipo\": typeChoice,\n",
    "        \"cor\": random.choice(color),\n",
    "        \"data\": datetime.now(timezone.utc).strftime(\"%Y-%m-%d %H:%M:%S\"),\n",
    "        \"placa\": placa\n",
    "    }\n",
    "    return json_data"
   ]
  },
  {
   "cell_type": "code",
   "execution_count": 45,
   "id": "c343a3d8-211e-4b35-bd40-6b92e14cbf1a",
   "metadata": {},
   "outputs": [
    {
     "name": "stdout",
     "output_type": "stream",
     "text": [
      "{'tipo': 'Trator', 'cor': 'Branco', 'data': '2024-05-08 14:22:42', 'placa': 'EEPB-6689'}\n",
      "{'tipo': 'Caminhão', 'cor': 'Preto', 'data': '2024-05-08 14:22:47', 'placa': 'NXQH-1736'}\n",
      "{'tipo': 'Caminhão', 'cor': 'Amarelo', 'data': '2024-05-08 14:22:52', 'placa': 'UVMA-0161'}\n",
      "{'tipo': 'Ônibus', 'cor': 'Azul', 'data': '2024-05-08 14:22:57', 'placa': 'PFOX-3215'}\n",
      "{'tipo': 'Carro', 'cor': 'Amarelo', 'data': '2024-05-08 14:23:02', 'placa': 'QQAO-1125'}\n",
      "{'tipo': 'Ônibus', 'cor': 'Roxo', 'data': '2024-05-08 14:23:07', 'placa': 'LPFU-7174'}\n",
      "{'tipo': 'Caminhonete', 'cor': 'Rosa', 'data': '2024-05-08 14:23:12', 'placa': 'QGAU-1350'}\n",
      "{'tipo': 'Caminhão', 'cor': 'Branco', 'data': '2024-05-08 14:23:17', 'placa': 'FOSX-2202'}\n",
      "{'tipo': 'Trator', 'cor': 'Prata', 'data': '2024-05-08 14:23:22', 'placa': 'UAYN-8785'}\n",
      "{'tipo': 'Caminhão', 'cor': 'Prata', 'data': '2024-05-08 14:23:27', 'placa': 'GQEJ-3184'}\n",
      "{'tipo': 'Van', 'cor': 'Amarelo', 'data': '2024-05-08 14:23:32', 'placa': 'NABX-3043'}\n",
      "{'tipo': 'Carro', 'cor': 'Verde', 'data': '2024-05-08 14:23:37', 'placa': 'MQSA-9061'}\n",
      "{'tipo': 'Ônibus', 'cor': 'Prata', 'data': '2024-05-08 14:23:42', 'placa': 'LRGN-0364'}\n",
      "{'tipo': 'Caminhão', 'cor': 'Roxo', 'data': '2024-05-08 14:23:47', 'placa': 'VWZR-3400'}\n",
      "{'tipo': 'Carro', 'cor': 'Verde', 'data': '2024-05-08 14:23:52', 'placa': 'HNAB-5672'}\n",
      "{'tipo': 'Trator', 'cor': 'Rosa', 'data': '2024-05-08 14:23:57', 'placa': 'FLFN-1566'}\n",
      "{'tipo': 'Moto', 'cor': 'Marrom', 'data': '2024-05-08 14:24:02', 'placa': 'JTKN-7587'}\n",
      "{'tipo': 'Trator', 'cor': 'Cinza', 'data': '2024-05-08 14:24:07', 'placa': 'WMES-3032'}\n",
      "{'tipo': 'Caminhão', 'cor': 'Vermelho', 'data': '2024-05-08 14:24:12', 'placa': 'THDA-9691'}\n",
      "{'tipo': 'Caminhonete', 'cor': 'Branco', 'data': '2024-05-08 14:24:17', 'placa': 'VYUW-8064'}\n",
      "{'tipo': 'Carro', 'cor': 'Azul', 'data': '2024-05-08 14:24:22', 'placa': 'QVYT-2757'}\n",
      "{'tipo': 'Caminhonete', 'cor': 'Preto', 'data': '2024-05-08 14:24:27', 'placa': 'HCZU-3523'}\n",
      "{'tipo': 'Trator', 'cor': 'Preto', 'data': '2024-05-08 14:24:32', 'placa': 'NVRH-7512'}\n",
      "{'tipo': 'Caminhonete', 'cor': 'Vermelho', 'data': '2024-05-08 14:24:37', 'placa': 'LAFZ-1520'}\n",
      "{'tipo': 'Caminhonete', 'cor': 'Preto', 'data': '2024-05-08 14:24:42', 'placa': 'HDIZ-3316'}\n",
      "{'tipo': 'Caminhonete', 'cor': 'Marrom', 'data': '2024-05-08 14:24:47', 'placa': 'CXPH-3091'}\n",
      "{'tipo': 'Caminhão', 'cor': 'Roxo', 'data': '2024-05-08 14:24:52', 'placa': 'GXKD-6570'}\n",
      "{'tipo': 'Caminhão', 'cor': 'Cinza', 'data': '2024-05-08 14:24:57', 'placa': 'XBOD-0151'}\n",
      "{'tipo': 'Caminhonete', 'cor': 'Branco', 'data': '2024-05-08 14:25:02', 'placa': 'ZMFM-9753'}\n",
      "{'tipo': 'Moto', 'cor': 'Roxo', 'data': '2024-05-08 14:25:07', 'placa': 'QRMN-6207'}\n",
      "{'tipo': 'Bicicleta', 'cor': 'Rosa', 'data': '2024-05-08 14:25:12', 'placa': ''}\n",
      "{'tipo': 'Caminhonete', 'cor': 'Amarelo', 'data': '2024-05-08 14:25:17', 'placa': 'YUEA-6672'}\n",
      "{'tipo': 'Bicicleta', 'cor': 'Rosa', 'data': '2024-05-08 14:25:22', 'placa': ''}\n",
      "{'tipo': 'Caminhonete', 'cor': 'Roxo', 'data': '2024-05-08 14:25:27', 'placa': 'WJRJ-1910'}\n",
      "{'tipo': 'Moto', 'cor': 'Prata', 'data': '2024-05-08 14:25:32', 'placa': 'DBGS-7807'}\n",
      "{'tipo': 'Moto', 'cor': 'Amarelo', 'data': '2024-05-08 14:25:37', 'placa': 'TYXX-1292'}\n",
      "{'tipo': 'Bicicleta', 'cor': 'Amarelo', 'data': '2024-05-08 14:25:42', 'placa': ''}\n",
      "{'tipo': 'Bicicleta', 'cor': 'Roxo', 'data': '2024-05-08 14:25:47', 'placa': ''}\n",
      "{'tipo': 'Ônibus', 'cor': 'Roxo', 'data': '2024-05-08 14:25:52', 'placa': 'YYQY-7338'}\n",
      "{'tipo': 'Caminhonete', 'cor': 'Verde', 'data': '2024-05-08 14:25:57', 'placa': 'IHVC-1811'}\n",
      "{'tipo': 'Bicicleta', 'cor': 'Branco', 'data': '2024-05-08 14:26:02', 'placa': ''}\n",
      "{'tipo': 'Van', 'cor': 'Branco', 'data': '2024-05-08 14:26:07', 'placa': 'HLWE-4548'}\n",
      "{'tipo': 'Caminhonete', 'cor': 'Prata', 'data': '2024-05-08 14:26:12', 'placa': 'AUFA-4516'}\n",
      "{'tipo': 'Ônibus', 'cor': 'Prata', 'data': '2024-05-08 14:26:17', 'placa': 'FLCZ-0350'}\n",
      "{'tipo': 'Van', 'cor': 'Preto', 'data': '2024-05-08 14:26:22', 'placa': 'GBQT-9750'}\n",
      "{'tipo': 'Caminhão', 'cor': 'Vermelho', 'data': '2024-05-08 14:26:27', 'placa': 'JMDV-6606'}\n",
      "{'tipo': 'Caminhonete', 'cor': 'Rosa', 'data': '2024-05-08 14:26:32', 'placa': 'RXLT-5051'}\n",
      "{'tipo': 'Van', 'cor': 'Prata', 'data': '2024-05-08 14:26:37', 'placa': 'HTPT-3246'}\n",
      "{'tipo': 'Moto', 'cor': 'Amarelo', 'data': '2024-05-08 14:26:42', 'placa': 'UPBQ-8844'}\n",
      "{'tipo': 'Caminhonete', 'cor': 'Prata', 'data': '2024-05-08 14:26:47', 'placa': 'JCEV-6969'}\n",
      "{'tipo': 'Caminhão', 'cor': 'Rosa', 'data': '2024-05-08 14:26:52', 'placa': 'FFWH-6919'}\n",
      "{'tipo': 'Caminhonete', 'cor': 'Azul', 'data': '2024-05-08 14:26:57', 'placa': 'UYOV-9476'}\n",
      "{'tipo': 'Caminhonete', 'cor': 'Cinza', 'data': '2024-05-08 14:27:02', 'placa': 'QLFD-5003'}\n",
      "{'tipo': 'Ônibus', 'cor': 'Prata', 'data': '2024-05-08 14:27:07', 'placa': 'ZSEG-8393'}\n",
      "{'tipo': 'Carro', 'cor': 'Marrom', 'data': '2024-05-08 14:27:12', 'placa': 'MMSU-2581'}\n",
      "{'tipo': 'Bicicleta', 'cor': 'Verde', 'data': '2024-05-08 14:27:17', 'placa': ''}\n",
      "{'tipo': 'Ônibus', 'cor': 'Rosa', 'data': '2024-05-08 14:27:22', 'placa': 'ITAW-7529'}\n",
      "{'tipo': 'Van', 'cor': 'Azul', 'data': '2024-05-08 14:27:27', 'placa': 'MJSU-4967'}\n",
      "{'tipo': 'Bicicleta', 'cor': 'Roxo', 'data': '2024-05-08 14:27:32', 'placa': ''}\n",
      "{'tipo': 'Ônibus', 'cor': 'Laranja', 'data': '2024-05-08 14:27:37', 'placa': 'PKJX-3970'}\n",
      "{'tipo': 'Carro', 'cor': 'Branco', 'data': '2024-05-08 14:27:42', 'placa': 'IOIC-6264'}\n",
      "{'tipo': 'Carro', 'cor': 'Roxo', 'data': '2024-05-08 14:27:47', 'placa': 'SFQX-9596'}\n",
      "{'tipo': 'Carro', 'cor': 'Rosa', 'data': '2024-05-08 14:27:52', 'placa': 'WPBK-4095'}\n",
      "{'tipo': 'Caminhonete', 'cor': 'Roxo', 'data': '2024-05-08 14:27:57', 'placa': 'DTQC-9214'}\n",
      "{'tipo': 'Caminhonete', 'cor': 'Prata', 'data': '2024-05-08 14:28:02', 'placa': 'SJRK-0408'}\n"
     ]
    }
   ],
   "source": [
    "while True:\n",
    "    time.sleep(5)\n",
    "    data = generate_random_json()\n",
    "    producer.send('devices', data)\n",
    "    print(data)\n",
    "    producer.flush()   "
   ]
  },
  {
   "cell_type": "code",
   "execution_count": null,
   "id": "c35265c5",
   "metadata": {},
   "outputs": [],
   "source": []
  }
 ],
 "metadata": {
  "kernelspec": {
   "display_name": "Python 3 (ipykernel)",
   "language": "python",
   "name": "python3"
  },
  "language_info": {
   "codemirror_mode": {
    "name": "ipython",
    "version": 3
   },
   "file_extension": ".py",
   "mimetype": "text/x-python",
   "name": "python",
   "nbconvert_exporter": "python",
   "pygments_lexer": "ipython3",
   "version": "3.11.6"
  }
 },
 "nbformat": 4,
 "nbformat_minor": 5
}
