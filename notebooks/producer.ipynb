{
 "cells": [
  {
   "cell_type": "code",
   "execution_count": 16,
   "id": "08e809b6-733b-4459-9093-7c4143bf9ddf",
   "metadata": {},
   "outputs": [],
   "source": [
    "import json as json\n",
    "import time\n",
    "import requests\n",
    "from time import sleep\n",
    "from kafka import KafkaProducer\n",
    "import random\n",
    "import datetime"
   ]
  },
  {
   "cell_type": "code",
   "execution_count": 10,
   "id": "4e3e5f6c-ee77-4eea-a15f-518eec1c7f12",
   "metadata": {},
   "outputs": [],
   "source": [
    "\n",
    "# Set up Kafka producer\n",
    "def serializer(message):\n",
    "    return json.dumps(message).encode('utf-8')\n",
    "\n",
    "# Kafka Producer\n",
    "producer = KafkaProducer(\n",
    "    bootstrap_servers=['kafka:29092'],\n",
    "    value_serializer=serializer\n",
    ")"
   ]
  },
  {
   "cell_type": "code",
   "execution_count": null,
   "id": "c343a3d8-211e-4b35-bd40-6b92e14cbf1a",
   "metadata": {},
   "outputs": [
    {
     "name": "stdout",
     "output_type": "stream",
     "text": [
      "{\"timestamp\": \"2024-05-06 18:20:50.843801\"}\n",
      "{\"timestamp\": \"2024-05-06 18:20:52.846099\"}\n",
      "{\"timestamp\": \"2024-05-06 18:20:59.853536\"}\n",
      "{\"timestamp\": \"2024-05-06 18:21:04.860506\"}\n",
      "{\"timestamp\": \"2024-05-06 18:21:10.867670\"}\n"
     ]
    }
   ],
   "source": [
    "while True:\n",
    "    sleep(random.randint(1, 10))\n",
    "    data = '{\"teste\": \"teste\", \"timestamp\": \"' + str(datetime.datetime.now()) + '\"}'    \n",
    "    producer.send('mec-xdr', data)\n",
    "    print(data)\n",
    "    producer.flush()    # Wait for messages to be delivered"
   ]
  },
  {
   "cell_type": "code",
   "execution_count": null,
   "id": "1f697658-f371-4667-9376-2589e2497809",
   "metadata": {},
   "outputs": [],
   "source": []
  }
 ],
 "metadata": {
  "kernelspec": {
   "display_name": "Python 3 (ipykernel)",
   "language": "python",
   "name": "python3"
  },
  "language_info": {
   "codemirror_mode": {
    "name": "ipython",
    "version": 3
   },
   "file_extension": ".py",
   "mimetype": "text/x-python",
   "name": "python",
   "nbconvert_exporter": "python",
   "pygments_lexer": "ipython3",
   "version": "3.11.6"
  }
 },
 "nbformat": 4,
 "nbformat_minor": 5
}
