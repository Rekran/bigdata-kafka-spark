{
 "cells": [
  {
   "cell_type": "code",
   "execution_count": 1,
   "id": "99c026dc-a7f6-468f-afd7-db9fe4d9aa81",
   "metadata": {},
   "outputs": [],
   "source": [
    "from pyspark.sql import SparkSession\n",
    "from pyspark.sql.types import StringType, StructField, StructType, LongType\n",
    "from pyspark.sql.functions import col\n",
    "from pyspark.sql.types import StringType, StructField, StructType, LongType\n",
    "from pyspark.sql.functions import from_json"
   ]
  },
  {
   "cell_type": "code",
   "execution_count": 2,
   "id": "06cb7d36-2819-4ec1-8ece-561e98fe38dc",
   "metadata": {},
   "outputs": [
    {
     "data": {
      "text/html": [
       "\n",
       "            <div>\n",
       "                <p><b>SparkSession - in-memory</b></p>\n",
       "                \n",
       "        <div>\n",
       "            <p><b>SparkContext</b></p>\n",
       "\n",
       "            <p><a href=\"http://163568e9ca4a:4040\">Spark UI</a></p>\n",
       "\n",
       "            <dl>\n",
       "              <dt>Version</dt>\n",
       "                <dd><code>v3.5.0</code></dd>\n",
       "              <dt>Master</dt>\n",
       "                <dd><code>local[*]</code></dd>\n",
       "              <dt>AppName</dt>\n",
       "                <dd><code>Streaming from Kafka</code></dd>\n",
       "            </dl>\n",
       "        </div>\n",
       "        \n",
       "            </div>\n",
       "        "
      ],
      "text/plain": [
       "<pyspark.sql.session.SparkSession at 0x7feee40cb9d0>"
      ]
     },
     "execution_count": 2,
     "metadata": {},
     "output_type": "execute_result"
    }
   ],
   "source": [
    "#Criar a sessão Spark\n",
    "spark = SparkSession \\\n",
    "    .builder \\\n",
    "    .appName(\"Streaming from Kafka\") \\\n",
    "    .config(\"spark.streaming.stopGracefullyOnShutdown\", True) \\\n",
    "    .config('spark.jars.packages', 'org.apache.spark:spark-sql-kafka-0-10_2.12:3.3.0') \\\n",
    "    .config(\"spark.sql.shuffle.partitions\", 4) \\\n",
    "    .master(\"local[*]\") \\\n",
    "    .getOrCreate()\n",
    "\n",
    "spark"
   ]
  },
  {
   "cell_type": "code",
   "execution_count": 3,
   "id": "911a395a-7ef4-472d-9ee7-502c55f107bd",
   "metadata": {},
   "outputs": [],
   "source": [
    "# Crear o sparkdf para o kafka\n",
    "streaming_df = spark.readStream\\\n",
    "    .format(\"kafka\") \\\n",
    "    .option(\"kafka.bootstrap.servers\", \"kafka:29092\") \\\n",
    "    .option(\"subscribe\", \"devices\") \\\n",
    "    .option(\"startingOffsets\", \"earliest\") \\\n",
    "    .option(\"failOnDataLoss\", \"false\")\\\n",
    "    .load()"
   ]
  },
  {
   "cell_type": "code",
   "execution_count": 4,
   "id": "85e847c8-e4fe-48e7-9268-fa4d171fd201",
   "metadata": {},
   "outputs": [],
   "source": [
    "#Definir o schema para o streaming\n",
    "json_schema = StructType([StructField('placa', StringType(), True),\n",
    "                            StructField('tipo', StringType(), True),\n",
    "                            StructField('cor', StringType(), True),\n",
    "                            StructField('data', StringType(), True)]\n",
    "                          )"
   ]
  },
  {
   "cell_type": "code",
   "execution_count": 5,
   "id": "40f55e30-83fa-412d-8acf-f37f76230c5b",
   "metadata": {},
   "outputs": [],
   "source": [
    "# Parsear o valor de binário para string\n",
    "json_df = streaming_df.selectExpr(\"cast(value as string) as value\")\n",
    "\n",
    "# Aplicar o esquema à coluna de valor JSON e expandir o valor\n",
    "json_expanded_df = json_df.withColumn(\"value\", from_json(json_df[\"value\"], json_schema)).select(\"value.*\")\n"
   ]
  },
  {
   "cell_type": "code",
   "execution_count": 7,
   "id": "b3c3846e-b96b-455b-bdd3-5f39dad46ce3",
   "metadata": {},
   "outputs": [],
   "source": [
    "# Dar flatten no dataframe\n",
    "flattened_df = json_expanded_df \\\n",
    "    .selectExpr(\"placa\", \"tipo\", \"cast(data as timestamp) as data\", \"cor\")"
   ]
  },
  {
   "cell_type": "code",
   "execution_count": 8,
   "id": "5c4df92d-66e3-4670-9bfd-865687b0e5c3",
   "metadata": {},
   "outputs": [],
   "source": [
    "#Conta a quantidade de carros por tipo e cor\n",
    "agg_df = flattened_df.groupBy(\"tipo\", \"cor\") \\\n",
    "    .count() \\\n",
    "    .withColumnRenamed(\"count\", \"quantidade\") \\\n",
    "    .withColumn(\"quantidade\", col(\"quantidade\").cast(LongType()))"
   ]
  },
  {
   "cell_type": "code",
   "execution_count": null,
   "id": "0cc8642e-98ad-4c34-b4db-bbe50a4ec937",
   "metadata": {
    "scrolled": true
   },
   "outputs": [],
   "source": [
    "# Escrever o resultado no console\n",
    "writing_df = agg_df.writeStream \\\n",
    "    .format(\"console\") \\\n",
    "    .option(\"checkpointLocation\",\"checkpoint_dir\") \\\n",
    "    .outputMode(\"complete\") \\\n",
    "    .start()\n",
    "    \n",
    "writing_df.awaitTermination()"
   ]
  }
 ],
 "metadata": {
  "kernelspec": {
   "display_name": "Python 3 (ipykernel)",
   "language": "python",
   "name": "python3"
  },
  "language_info": {
   "codemirror_mode": {
    "name": "ipython",
    "version": 3
   },
   "file_extension": ".py",
   "mimetype": "text/x-python",
   "name": "python",
   "nbconvert_exporter": "python",
   "pygments_lexer": "ipython3",
   "version": "3.11.6"
  }
 },
 "nbformat": 4,
 "nbformat_minor": 5
}
