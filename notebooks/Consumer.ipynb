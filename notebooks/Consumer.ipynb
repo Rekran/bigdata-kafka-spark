{
 "cells": [
  {
   "cell_type": "code",
   "execution_count": 1,
   "id": "7610c20b-bfc7-4e16-8508-98705608883e",
   "metadata": {},
   "outputs": [],
   "source": [
    "from kafka import KafkaConsumer\n",
    "import json"
   ]
  },
  {
   "cell_type": "code",
   "execution_count": 2,
   "id": "2b81d40c-5715-4063-9485-cc953889145d",
   "metadata": {},
   "outputs": [],
   "source": [
    "    # Kafka Consumer \n",
    "    consumer = KafkaConsumer(\n",
    "        'devices',\n",
    "        bootstrap_servers='kafka:29092',\n",
    "        max_poll_records = 100,\n",
    "        value_deserializer=lambda m: json.loads(m.decode('ascii')),\n",
    "        auto_offset_reset='earliest',#,'smallest'\n",
    "         group_id='teste'\n",
    ")"
   ]
  },
  {
   "cell_type": "code",
   "execution_count": null,
   "id": "8949aa1f-6c0b-44c2-90d8-ec1f5491e65b",
   "metadata": {},
   "outputs": [],
   "source": [
    "for message in consumer:\n",
    "    print(message)"
   ]
  }
 ],
 "metadata": {
  "kernelspec": {
   "display_name": "Python 3 (ipykernel)",
   "language": "python",
   "name": "python3"
  },
  "language_info": {
   "codemirror_mode": {
    "name": "ipython",
    "version": 3
   },
   "file_extension": ".py",
   "mimetype": "text/x-python",
   "name": "python",
   "nbconvert_exporter": "python",
   "pygments_lexer": "ipython3",
   "version": "3.11.6"
  }
 },
 "nbformat": 4,
 "nbformat_minor": 5
}
