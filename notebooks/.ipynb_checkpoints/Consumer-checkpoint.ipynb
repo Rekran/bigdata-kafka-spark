{
 "cells": [
  {
   "cell_type": "code",
   "execution_count": null,
   "id": "7610c20b-bfc7-4e16-8508-98705608883e",
   "metadata": {},
   "outputs": [],
   "source": [
    "    # Create a cursor object\n",
    "    cur = conn.cursor()\n",
    "    # Kafka Consumer \n",
    "    consumer = KafkaConsumer(\n",
    "        'mec-xdr',\n",
    "        bootstrap_servers='localhost:9092',\n",
    "        max_poll_records = 100,\n",
    "        value_deserializer=lambda m: json.loads(m.decode('ascii')))\n",
    "        auto_offset_reset='earliest'#,'smallest'\n",
    "    )"
   ]
  }
 ],
 "metadata": {
  "kernelspec": {
   "display_name": "Python 3 (ipykernel)",
   "language": "python",
   "name": "python3"
  },
  "language_info": {
   "codemirror_mode": {
    "name": "ipython",
    "version": 3
   },
   "file_extension": ".py",
   "mimetype": "text/x-python",
   "name": "python",
   "nbconvert_exporter": "python",
   "pygments_lexer": "ipython3",
   "version": "3.11.6"
  }
 },
 "nbformat": 4,
 "nbformat_minor": 5
}
