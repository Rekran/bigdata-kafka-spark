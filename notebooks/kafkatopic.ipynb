{
 "cells": [
  {
   "cell_type": "code",
   "execution_count": 1,
   "id": "142a0cd8-51cc-4d2c-bc45-6e8fc61013a3",
   "metadata": {},
   "outputs": [],
   "source": [
    "import kafka\n",
    "from kafka.admin import KafkaAdminClient, NewTopic"
   ]
  },
  {
   "cell_type": "code",
   "execution_count": 4,
   "id": "dd9435e7-54a0-45db-8be9-9333519035f0",
   "metadata": {},
   "outputs": [
    {
     "name": "stdout",
     "output_type": "stream",
     "text": [
      "{'devices'}\n"
     ]
    }
   ],
   "source": [
    "consumer = kafka.KafkaConsumer(\n",
    "                               group_id='teste', \n",
    "                               bootstrap_servers=['kafka:29092']\n",
    "                            )\n",
    "topics = consumer.topics()\n",
    "print(topics)"
   ]
  },
  {
   "cell_type": "code",
   "execution_count": 3,
   "id": "b6b511f8-a997-4139-a169-b6709661ef44",
   "metadata": {
    "scrolled": true
   },
   "outputs": [],
   "source": [
    "if 'devices' not in topics:\n",
    "    admin_client = KafkaAdminClient(\n",
    "        bootstrap_servers=\"kafka:29092\", \n",
    "        client_id='test'\n",
    "    )\n",
    "    \n",
    "    topic_list = []\n",
    "    topic_list.append(\n",
    "        NewTopic(name=\"devices\", \n",
    "        num_partitions=1, \n",
    "        replication_factor=1)\n",
    "    )\n",
    "    admin_client.create_topics(\n",
    "        new_topics=topic_list, \n",
    "        validate_only=False\n",
    "    )"
   ]
  },
  {
   "cell_type": "code",
   "execution_count": null,
   "id": "97aca67c-6615-4341-9693-857756e88c13",
   "metadata": {},
   "outputs": [],
   "source": []
  }
 ],
 "metadata": {
  "kernelspec": {
   "display_name": "Python 3 (ipykernel)",
   "language": "python",
   "name": "python3"
  },
  "language_info": {
   "codemirror_mode": {
    "name": "ipython",
    "version": 3
   },
   "file_extension": ".py",
   "mimetype": "text/x-python",
   "name": "python",
   "nbconvert_exporter": "python",
   "pygments_lexer": "ipython3",
   "version": "3.11.6"
  }
 },
 "nbformat": 4,
 "nbformat_minor": 5
}
